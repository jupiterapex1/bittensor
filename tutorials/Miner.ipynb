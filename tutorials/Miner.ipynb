{
 "cells": [
  {
   "cell_type": "markdown",
   "metadata": {},
   "source": [
    "# Running a Miner:\n",
    "* [Init Bittensor](#Init-Bittensor)\n",
    "    * [Wallet](#Wallet)\n",
    "    * [Config](#Config)\n",
    "    * [Metagraph](#Metagraph)\n",
    "    * [Subscription](#Subscription)\n",
    "\n",
    "\n",
    "* [Nucleus](#Nucleus)\n",
    "    * [GPT2-Nucleus](#GPT2-Nucleus)\n",
    "    * [Test-Nucleus](#Test-Nucleus)\n",
    "    \n",
    "    \n",
    "* [Training](#Training)\n",
    "    * [Training-Loop](#Training-Loop)\n",
    "    * [Training-Thread-Runners](#Training-Thread-Runners)\n",
    "    \n",
    "\n",
    "* [Serving](#Serving)\n",
    "    * [Serving-Loop](#Serving-Loop)\n",
    "    * [Serving-Thread-Runners](#Serving-Thread-Runners)\n",
    "    * [Test-Serving](#Test-Serving)\n",
    "    \n",
    "    \n",
    "* [Transactions](#Transactions)\n",
    "    * [Unstaking-Funds](#Unstaking-Funds)\n",
    "    * [Staking-Funds](#Staking-Funds)\n",
    "    * [Transfering-Funds](#Transfering-Funds)\n",
    "\n",
    "   "
   ]
  },
  {
   "cell_type": "code",
   "execution_count": 9,
   "metadata": {},
   "outputs": [
    {
     "name": "stdout",
     "output_type": "stream",
     "text": [
      "The autoreload extension is already loaded. To reload it, use:\n",
      "  %reload_ext autoreload\n"
     ]
    }
   ],
   "source": [
    "%load_ext autoreload"
   ]
  },
  {
   "cell_type": "code",
   "execution_count": 10,
   "metadata": {},
   "outputs": [],
   "source": [
    "%autoreload 2"
   ]
  },
  {
   "cell_type": "code",
   "execution_count": 69,
   "metadata": {},
   "outputs": [],
   "source": [
    "import bittensor\n",
    "import os\n",
    "import torch\n",
    "import torch.multiprocessing as mp \n",
    "import time\n",
    "from loguru import logger\n",
    "from termcolor import colored\n",
    "import nest_asyncio \n",
    "nest_asyncio.apply()\n",
    "logger.remove()"
   ]
  },
  {
   "cell_type": "markdown",
   "metadata": {},
   "source": [
    "# **Init Bittensor** <a class=\"anchor\" id=\"Init-Bittensor\"></a>"
   ]
  },
  {
   "cell_type": "markdown",
   "metadata": {},
   "source": [
    "## **Wallet** <a class=\"anchor\" id=\"Wallet\"></a>"
   ]
  },
  {
   "cell_type": "code",
   "execution_count": 12,
   "metadata": {},
   "outputs": [
    {
     "name": "stdout",
     "output_type": "stream",
     "text": [
      "\u001b[32mLoaded coldkey.pub: 0x3c9cd1679888e5660b0c8e4b8a17a1719c0cb7f05b5c624a856b421b52290515\u001b[0m\n",
      "\u001b[32mLoaded hotkey: 0x80cacfbdf7b155b39de22680a7cb14c61a8f95df702c92f5f142d25cca37c545\u001b[0m\n"
     ]
    }
   ],
   "source": [
    "# WALLET: Holds keys to run your miner and control funds.\n",
    "\n",
    "# *****\n",
    "# IMPORTANT: Store the mnemonic for **both** your hot and coldkey \n",
    "# you will need these to recover your keys if you forget your password or lose access to this machine.\n",
    "# ******\n",
    "\n",
    "# Fill in below to name your wallet and keys.\n",
    "YOUR_WALLET_NAME = 'colab'\n",
    "YOUR_HOTKEY_NAME = 'colab_hot'\n",
    "\n",
    "# Fill in below if your need to regenerate your keys.\n",
    "use_mnemonic = False # Set to true for key regeneration.\n",
    "coldkey_mnemonic = \"<to be filled>\".split(' ')\n",
    "hotkey_mnemonic = \"<to be filled>\".split(' ')\n",
    "\n",
    "# Create the wallet object.\n",
    "wallet = bittensor.Wallet(\n",
    "    path = \"~/.bittensor/wallets/\",\n",
    "    name = YOUR_WALLET_NAME,\n",
    "    hotkey = YOUR_HOTKEY_NAME\n",
    ")\n",
    "\n",
    "# Optionally regens/creates your wallet keys.\n",
    "if not wallet.has_coldkeypub:\n",
    "    if use_mnemonic:\n",
    "        wallet.regenerate_coldkey(mnemonic = coldkey_mnemonic, use_password = True)\n",
    "    else:\n",
    "        wallet.create_new_coldkey(n_words = 12, use_password = True )\n",
    "if not wallet.has_hotkey:\n",
    "    if use_mnemonic:\n",
    "        wallet.regenerate_hotkey(mnemonic = hotkey_mnemonic)\n",
    "    else:\n",
    "        wallet.create_new_hotkey(n_words = 12)\n",
    "\n",
    "# Assert before continuing\n",
    "assert wallet.has_hotkey\n",
    "assert wallet.has_coldkeypub"
   ]
  },
  {
   "cell_type": "markdown",
   "metadata": {},
   "source": [
    "## **Config** <a class=\"anchor\" id=\"Config\"></a>"
   ]
  },
  {
   "cell_type": "code",
   "execution_count": 139,
   "metadata": {},
   "outputs": [],
   "source": [
    "config = bittensor.Neuron.default_config()\n",
    "config.neuron.multiprocessing = False\n",
    "config.neuron.debug = True\n",
    "config.receptor.do_backoff = False\n",
    "config.receptor.timeout = 1\n",
    "config.subtensor.network = 'kusanagi'"
   ]
  },
  {
   "cell_type": "code",
   "execution_count": 41,
   "metadata": {},
   "outputs": [
    {
     "name": "stdout",
     "output_type": "stream",
     "text": [
      "\n",
      "axon:\n",
      "  backward_processing_timeout: 5\n",
      "  external_ip: 190.119.146.134\n",
      "  external_port: 8091\n",
      "  forward_processing_timeout: 5\n",
      "  local_ip: 127.0.0.1\n",
      "  local_port: 8091\n",
      "  max_workers: 10\n",
      "  use_upnpc: false\n",
      "metagraph:\n",
      "  stale_emit_filter: -1\n",
      "neuron:\n",
      "  debug: true\n",
      "  modality: 0\n",
      "  multiprocessing: false\n",
      "receptor:\n",
      "  do_backoff: false\n",
      "  max_backoff: 100\n",
      "  pass_gradients: true\n",
      "  timeout: 5\n",
      "subtensor:\n",
      "  chain_endpoint: null\n",
      "  network: kusanagi\n",
      "wallet:\n",
      "  hotkey: colab_hot\n",
      "  name: colab\n",
      "  path: ~/.bittensor/wallets/\n",
      "\n"
     ]
    }
   ],
   "source": [
    "# Init bittensor components\n",
    "bittensor.init( config = config, wallet = wallet )\n",
    "print ( bittensor.Config.toString( bittensor.neuron.config ) )"
   ]
  },
  {
   "cell_type": "markdown",
   "metadata": {},
   "source": [
    "## **Metagraph** <a class=\"anchor\" id=\"Metagraph\"></a>\n"
   ]
  },
  {
   "cell_type": "code",
   "execution_count": 42,
   "metadata": {},
   "outputs": [
    {
     "name": "stdout",
     "output_type": "stream",
     "text": [
      "\u001b[37m\n",
      "Syncing metagraph:\u001b[0m\n",
      "\u001b[32mSuccessfully connected to kusanagi endpoint: 157.230.11.53:9944\u001b[0m\n",
      "\u001b[32m.\u001b[0m\u001b[32m.\u001b[0m\u001b[32m.\u001b[0m\u001b[32m.\u001b[0m\u001b[32m.\u001b[0m\u001b[32m.\u001b[0m\u001b[32m.\u001b[0m\u001b[32m.\u001b[0m\u001b[32m.\u001b[0m\u001b[32m.\u001b[0m\u001b[32m.\u001b[0m\u001b[32m.\u001b[0m\u001b[32m.\u001b[0m\u001b[32m.\u001b[0m\u001b[32m.\u001b[0m\u001b[32m.\u001b[0m\u001b[32m.\u001b[0m\u001b[32m.\u001b[0m\u001b[32m.\u001b[0m\u001b[32m.\u001b[0m\u001b[32m.\u001b[0m\u001b[32m.\u001b[0m\u001b[32m.\u001b[0m\u001b[32m.\u001b[0m\u001b[32m.\u001b[0m\u001b[32m.\u001b[0m\u001b[32m.\u001b[0m\u001b[32m.\u001b[0m\u001b[32m.\u001b[0m\u001b[32m.\u001b[0m\u001b[32m.\u001b[0m\u001b[32m.\u001b[0m\u001b[32m.\u001b[0m\u001b[32m.\u001b[0m\u001b[32m.\u001b[0m\u001b[32m.\u001b[0m\u001b[32m.\u001b[0m\u001b[32m.\u001b[0m\u001b[32m.\u001b[0m\u001b[32m.\u001b[0m\u001b[32m.\u001b[0m\u001b[32m.\u001b[0m\u001b[32m.\u001b[0m\u001b[32m.\u001b[0m\u001b[32m.\u001b[0m\u001b[32m.\u001b[0m\u001b[32m.\u001b[0m\u001b[32m.\u001b[0m\u001b[32m.\u001b[0m\u001b[32m.\u001b[0m\u001b[32m.\u001b[0m\u001b[32m.\u001b[0m\u001b[32m.\u001b[0m\u001b[32m.\u001b[0m\u001b[32m.\u001b[0m\u001b[32m.\u001b[0m\u001b[32m.\u001b[0m\u001b[32m.\u001b[0m\u001b[32m.\u001b[0m\u001b[32m.\u001b[0m\u001b[32m.\u001b[0m\u001b[32m.\u001b[0m\u001b[32m.\u001b[0m\u001b[32m.\u001b[0m\u001b[32m.\u001b[0m\u001b[32m.\u001b[0m\u001b[32m.\u001b[0m\u001b[32m.\u001b[0m\u001b[32m.\u001b[0m\u001b[32m.\u001b[0m\u001b[32m.\u001b[0m\u001b[32m.\u001b[0m\u001b[32m.\u001b[0m\u001b[32m.\u001b[0m\u001b[32m.\u001b[0m\u001b[32m.\u001b[0m\u001b[32m.\u001b[0m\u001b[32m.\u001b[0m\u001b[32m.\u001b[0m\u001b[32m.\u001b[0m\u001b[32m.\u001b[0m\u001b[32m.\u001b[0m\u001b[32m.\u001b[0m\u001b[32m.\u001b[0m\u001b[32m.\u001b[0m\u001b[32m.\u001b[0m\u001b[32m.\u001b[0m\u001b[32m.\u001b[0m\u001b[32m.\u001b[0m\u001b[32m.\u001b[0m\u001b[32m.\u001b[0m\u001b[32m.\u001b[0m\u001b[32m.\u001b[0m\u001b[32m.\u001b[0m\u001b[32m.\u001b[0m\u001b[32m.\u001b[0m\u001b[32m.\u001b[0m\u001b[32m.\u001b[0m\u001b[32m.\u001b[0m\u001b[32m.\u001b[0m\u001b[32m.\u001b[0m\u001b[32m.\u001b[0m\u001b[32m.\u001b[0m\u001b[32m.\u001b[0m\u001b[32m.\u001b[0m\u001b[32m.\u001b[0m\u001b[32m.\u001b[0m\u001b[32m.\u001b[0m\u001b[32m.\u001b[0m\u001b[32m.\u001b[0m\u001b[32m.\u001b[0m\u001b[32m.\u001b[0m\u001b[32m.\u001b[0m\u001b[32m.\u001b[0m\u001b[32m.\u001b[0m\u001b[32m.\u001b[0m\u001b[32m.\u001b[0m\u001b[32m.\u001b[0m\u001b[32m.\u001b[0m\u001b[32m.\u001b[0m\u001b[32m.\u001b[0m\u001b[32m.\u001b[0m\u001b[32m.\u001b[0m\u001b[32m.\u001b[0m\u001b[32m.\u001b[0m\u001b[32m.\u001b[0m\u001b[32m.\u001b[0m\u001b[32m.\u001b[0m\u001b[32m.\u001b[0m\u001b[32m.\u001b[0m\u001b[32m.\u001b[0m\u001b[32m.\u001b[0m\u001b[32m.\u001b[0m\u001b[32m.\u001b[0m\u001b[32m.\u001b[0m\u001b[32m.\u001b[0m\u001b[32m.\u001b[0m\u001b[32m.\u001b[0m\u001b[32m.\u001b[0m\u001b[32m.\u001b[0m\u001b[32m.\u001b[0m\u001b[32m.\u001b[0m\u001b[32m.\u001b[0m\u001b[32m.\u001b[0m\u001b[32m.\u001b[0m\u001b[32m.\u001b[0m\u001b[32m.\u001b[0m\u001b[32m.\u001b[0m\u001b[32m.\u001b[0m\u001b[32m.\u001b[0m\u001b[32m.\u001b[0m\u001b[32m.\u001b[0m\u001b[32m.\u001b[0m\u001b[32m.\u001b[0m\u001b[32m.\u001b[0m\u001b[32m.\u001b[0m\u001b[32m.\u001b[0m\u001b[32m.\u001b[0m\u001b[32m.\u001b[0m\u001b[32m.\u001b[0m\u001b[32m.\u001b[0m\u001b[32m.\u001b[0m\u001b[32m.\u001b[0m\u001b[32m.\u001b[0m\u001b[32m.\u001b[0m\u001b[32m.\u001b[0m\u001b[32m.\u001b[0m\u001b[32m.\u001b[0m\u001b[32m.\u001b[0m\u001b[32m.\u001b[0m\u001b[32m.\u001b[0m\u001b[32m.\u001b[0m\u001b[32m.\u001b[0m\u001b[32m.\u001b[0m\u001b[32m.\u001b[0m\u001b[32m.\u001b[0m\u001b[32m.\u001b[0m\u001b[32m.\u001b[0m\u001b[32m.\u001b[0m\u001b[32m.\u001b[0m\u001b[32m.\u001b[0m\u001b[32m.\u001b[0m\u001b[32m.\u001b[0m\u001b[32m.\u001b[0m\u001b[32m.\u001b[0m\u001b[32m.\u001b[0m\u001b[32m.\u001b[0m\u001b[32m.\u001b[0m\u001b[32m.\u001b[0m\u001b[32m.\u001b[0m\u001b[32m.\u001b[0m\u001b[32m.\u001b[0m\u001b[32m.\u001b[0m\u001b[32m.\u001b[0m\u001b[32m.\u001b[0m\u001b[32m.\u001b[0m\u001b[32m.\u001b[0m\u001b[32m.\u001b[0m\u001b[32m.\u001b[0m\u001b[32m.\u001b[0m\u001b[32m.\u001b[0m\u001b[32m.\u001b[0m\u001b[32m.\u001b[0m\u001b[32m.\u001b[0m\u001b[32m.\u001b[0m\u001b[32m.\u001b[0m\u001b[32m.\u001b[0m\u001b[32m.\u001b[0m\u001b[32m.\u001b[0m\u001b[32m.\u001b[0m\u001b[32m.\u001b[0m\u001b[32m.\u001b[0m\u001b[32m.\u001b[0m\u001b[32m.\u001b[0m\u001b[32m.\u001b[0m\u001b[32m.\u001b[0m\u001b[32m.\u001b[0m\u001b[32m.\u001b[0m\u001b[32m.\u001b[0m\u001b[32m.\u001b[0m\u001b[32m.\u001b[0m\u001b[32m.\u001b[0m\u001b[32m.\u001b[0m\u001b[32m.\u001b[0m\u001b[32m.\u001b[0m\u001b[32m.\u001b[0m\u001b[32m.\u001b[0m\u001b[32m.\u001b[0m\u001b[32m.\u001b[0m\u001b[32m.\u001b[0m\u001b[32m.\u001b[0m\u001b[32m.\u001b[0m\u001b[32m.\u001b[0m\u001b[32m.\u001b[0m\u001b[32m.\u001b[0m\u001b[32m.\u001b[0m\u001b[32m.\u001b[0m\u001b[32m.\u001b[0m\u001b[32m.\u001b[0m\u001b[32m.\u001b[0m\u001b[32m.\u001b[0m\u001b[32m.\u001b[0m\u001b[32m.\u001b[0m\u001b[32m.\u001b[0m\u001b[32m.\u001b[0m\u001b[32m.\u001b[0m\u001b[32m.\u001b[0m\u001b[32m.\u001b[0m\u001b[32m.\u001b[0m\u001b[32m.\u001b[0m\u001b[32m.\u001b[0m\u001b[32m.\u001b[0m\u001b[32m.\u001b[0m\u001b[32m.\u001b[0m\u001b[32m.\u001b[0m\u001b[32m.\u001b[0m\u001b[32m.\u001b[0m\u001b[32m.\u001b[0m\u001b[32m.\u001b[0m\u001b[32m.\u001b[0m\u001b[32m.\u001b[0m\u001b[32m.\u001b[0m\u001b[32m.\u001b[0m\u001b[32m.\u001b[0m\u001b[32m.\u001b[0m\u001b[32m.\u001b[0m\u001b[32m.\u001b[0m\u001b[32m.\u001b[0m\u001b[32m.\u001b[0m\u001b[32m.\u001b[0m\u001b[32m.\u001b[0m\u001b[32m.\u001b[0m\u001b[32m.\u001b[0m\u001b[32m.\u001b[0m\u001b[32m.\u001b[0m\u001b[32m.\u001b[0m\u001b[32m.\u001b[0m\u001b[32m.\u001b[0m\u001b[32m.\u001b[0m\u001b[32m.\u001b[0m\u001b[32m.\u001b[0m\u001b[32m.\u001b[0m\u001b[32m.\u001b[0m\u001b[32m.\u001b[0m\u001b[32m.\u001b[0m\u001b[32m.\u001b[0m"
     ]
    }
   ],
   "source": [
    "# Sync chain information into the metagraph\n",
    "bittensor.metagraph.sync()"
   ]
  },
  {
   "cell_type": "code",
   "execution_count": 44,
   "metadata": {},
   "outputs": [
    {
     "name": "stdout",
     "output_type": "stream",
     "text": [
      "The chain is at block:  817701\n"
     ]
    }
   ],
   "source": [
    "print ('The chain is at block: ', bittensor.metagraph.block())"
   ]
  },
  {
   "cell_type": "code",
   "execution_count": 45,
   "metadata": {},
   "outputs": [
    {
     "data": {
      "text/plain": [
       "tensor([168, 116,  95, 113, 142, 280,  91, 195, 256,  22, 278, 190,  11,  71,\n",
       "        140,   9, 107, 165, 222, 274, 258, 152,  44,  20, 205, 228,  45, 106,\n",
       "        153,  67, 268,  84,  69, 174,  15,   2, 111, 191, 237, 130, 225, 129,\n",
       "         98, 125, 218, 262, 144, 249, 155,  75,  38,  25, 212, 214, 124, 261,\n",
       "         42, 163, 181, 182, 240, 171,  43,  34, 243, 197, 272, 217, 120, 164,\n",
       "        255,   5, 200,  85, 267, 187, 244,   3, 242,  64,  77, 151, 202, 234,\n",
       "        281, 170, 149, 189,  92,  65,  60, 241, 232, 178, 169, 166,  14, 257,\n",
       "        159, 104,  83, 136,   8,   0, 137, 177,  76, 275, 247, 279,  90, 115,\n",
       "         57,   6,  58, 157, 105,  30, 265, 236, 215, 253,  93, 114,  40, 186,\n",
       "         48, 172, 194,  13, 226,  18,  72, 269, 260, 176, 204, 223, 110, 213,\n",
       "        250, 282,  10,  26, 231,  68, 266, 284, 185,  50,  63,  78,  94, 206,\n",
       "         79, 101, 122,  88, 162, 210, 134, 148, 179, 227, 167,  19,  51,  66,\n",
       "        123,  81,  33, 173,  23, 199,   7, 183, 132, 219, 126, 192, 184,  41,\n",
       "         80, 263, 233,  70, 229,  12, 245,  99,  52, 143, 147,  28, 207,  82,\n",
       "        246,  29, 201, 209, 193,  96,  47,  27,  59, 251, 158, 198, 264, 230,\n",
       "        109, 135,  74, 121,  37,  54, 103, 154,   1, 145, 277, 239, 156,  46,\n",
       "        139, 221, 128,  49,  31, 138,  62, 150, 216, 208, 283, 100, 235, 141,\n",
       "        108, 118,  73, 161,  17, 211,  53, 131,  16, 259, 102, 119, 188,  56,\n",
       "         32, 220, 271, 127, 146, 276,  21, 270, 196,  89, 273, 238, 248,  87,\n",
       "         35,   4, 180, 175,  97, 252, 117, 254,  86,  36,  39, 224, 203, 160,\n",
       "         55, 112,  61, 133,  24])"
      ]
     },
     "execution_count": 45,
     "metadata": {},
     "output_type": "execute_result"
    }
   ],
   "source": [
    "bittensor.metagraph.uids()"
   ]
  },
  {
   "cell_type": "code",
   "execution_count": 46,
   "metadata": {},
   "outputs": [
    {
     "name": "stdout",
     "output_type": "stream",
     "text": [
      "There are 284 neurons on the network\n",
      "\n",
      "99 neurons have emitted in the last 100 blocks\n",
      "\n",
      "262210.0625 Tao is staked\n"
     ]
    }
   ],
   "source": [
    "n_neurons = torch.max(bittensor.metagraph.uids())\n",
    "print ('There are {} neurons on the network\\n'.format(n_neurons))\n",
    "n_online = torch.numel(\n",
    "  bittensor.metagraph.uids()[ \n",
    "    torch.where(\n",
    "      bittensor.metagraph.block() - bittensor.metagraph.lastemit() < 100\n",
    "    )\n",
    "  ]\n",
    ")\n",
    "print ('{} neurons have emitted in the last 100 blocks\\n'.format(n_online))\n",
    "print ('{} Tao is staked'.format(torch.sum(bittensor.metagraph.S())))"
   ]
  },
  {
   "cell_type": "markdown",
   "metadata": {},
   "source": [
    "## **Subscription** <a class=\"anchor\" id=\"Subscription\"></a>"
   ]
  },
  {
   "cell_type": "code",
   "execution_count": 47,
   "metadata": {},
   "outputs": [
    {
     "name": "stdout",
     "output_type": "stream",
     "text": [
      "\u001b[32mSuccessfully connected to kusanagi endpoint: 157.230.11.1:9944\u001b[0m\n",
      "\u001b[32mAlready subscribed with [ip: 190.119.146.134, port: 8091, modality: 0, coldkey: 0x3c9cd1679888e5660b0c8e4b8a17a1719c0cb7f05b5c624a856b421b52290515]\u001b[0m\n"
     ]
    },
    {
     "data": {
      "text/plain": [
       "True"
      ]
     },
     "execution_count": 47,
     "metadata": {},
     "output_type": "execute_result"
    }
   ],
   "source": [
    "# Subscribe our endpoint to the chain.\n",
    "bittensor.subtensor.subscribe(\n",
    "    config.axon.external_ip, \n",
    "    config.axon.external_port,\n",
    "    config.neuron.modality,\n",
    "    wallet.coldkeypub,\n",
    "    wait_for_finalization = True,\n",
    "    timeout = 4 * bittensor.__blocktime__,\n",
    ")"
   ]
  },
  {
   "cell_type": "code",
   "execution_count": 48,
   "metadata": {},
   "outputs": [
    {
     "name": "stdout",
     "output_type": "stream",
     "text": [
      "Your network uid is 168 for hotkey public key 0x80cacfbdf7b155b39de22680a7cb14c61a8f95df702c92f5f142d25cca37c545\n",
      "\n",
      "Your are subscribed at endpoint 190.119.146.134:8091 for modality 0\n",
      "\n",
      "You are staking 100.97054290771484τ \n",
      "\n",
      "You have a network rank of 407.619873046875τ for position 87/284\n",
      "\n",
      "and are attaining incentive: 0.0007772772223688662τ/block\n"
     ]
    }
   ],
   "source": [
    "uid = bittensor.metagraph.uid_for_pubkey(wallet.hotkey.public_key)\n",
    "index = bittensor.metagraph.index_for_uid(uid)\n",
    "stake = bittensor.metagraph.S()[index]\n",
    "rank = bittensor.metagraph.R()[index]\n",
    "incentive = bittensor.metagraph.I()[index]\n",
    "neuron = bittensor.metagraph.neurons()[index]\n",
    "position = (torch.argsort(bittensor.metagraph.R(), dim=0) == index).nonzero(as_tuple=True)[0].item()\n",
    "wallet_balance = bittensor.subtensor.get_balance(wallet.coldkeypub)\n",
    "print ('Your network uid is {} for hotkey public key {}\\n'.format(uid, wallet.hotkey.public_key))\n",
    "print ('Your are subscribed at endpoint {}:{} for modality {}\\n'.format(neuron.address, neuron.port, neuron.modality))\n",
    "print ('You are staking {}\\u03C4 \\n\\nYou have a network rank of {}\\u03C4 for position {}/{}\\n\\nand are attaining incentive: {}\\u03C4/block'.format(stake, rank, position, n_neurons, incentive))\n"
   ]
  },
  {
   "cell_type": "markdown",
   "metadata": {},
   "source": [
    "# **Nucleus**  <a class=\"anchor\" id=\"Nucleus\"></a>"
   ]
  },
  {
   "cell_type": "markdown",
   "metadata": {},
   "source": [
    "## **GPT2-Nucleus** <a class=\"anchor\" id=\"GPT2-Nucleus\"></a>"
   ]
  },
  {
   "cell_type": "code",
   "execution_count": 49,
   "metadata": {},
   "outputs": [],
   "source": [
    "import torch.nn as nn\n",
    "import torch.nn.functional as F\n",
    "from types import SimpleNamespace\n",
    "from transformers import GPT2Config, GPT2Model\n",
    "\n",
    "class GPT2Nucleus(torch.nn.Module):\n",
    "    def __init__(self):\n",
    "        super().__init__()\n",
    "        huggingface_config = GPT2Config( vocab_size=bittensor.__vocab_size__, n_embd=bittensor.__network_dim__, n_layer=2, n_head=1, n_inner=8 )\n",
    "        self.transformer = GPT2Model(huggingface_config)\n",
    "        self.hidden_layer = nn.Linear( bittensor.__network_dim__, bittensor.__network_dim__ )\n",
    "        self.target_layer = nn.Linear( bittensor.__network_dim__, bittensor.__vocab_size__, bias=False )\n",
    "        self.loss_fct = nn.CrossEntropyLoss()\n",
    "        self.weights = torch.rand( bittensor.metagraph.n(), requires_grad=True )\n",
    "\n",
    "    def local_forward(self, inputs: torch.LongTensor):\n",
    "        # Runs only the local part of the model.\n",
    "\n",
    "        # To be filled.\n",
    "        output = SimpleNamespace()\n",
    "\n",
    "        # Apply our GPT transformer model.\n",
    "        # local_context.shape = [ batch_size, sequence_len, network_dim ]\n",
    "        output.local_context = self.transformer(input_ids=inputs, return_dict=True).last_hidden_state\n",
    "\n",
    "        # Apply our dense layer and project it onto our target layer.\n",
    "        # local_hidden.shape = [ batch_size, sequence_len, network_dim ]\n",
    "        output.local_hidden = self.hidden_layer( output.local_context )\n",
    "\n",
    "        # Project to our target dimension.\n",
    "        # local_targets.shape = [ batch_size, sequence_len, vocab_size ]\n",
    "        output.local_targets = self.target_layer( output.local_hidden )\n",
    "\n",
    "        # Compute LM-loss \n",
    "        shift_targets = output.local_targets[..., :-1, :].contiguous()\n",
    "        shift_inputs = inputs[..., 1:].contiguous()\n",
    "        output.local_loss = self.loss_fct(shift_targets.view(-1, shift_targets.size(-1)), shift_inputs.view(-1))\n",
    "\n",
    "        return output\n",
    "\n",
    "    def remote_forward(self, inputs: torch.LongTensor, row_weights: torch.FloatTensor, n_to_query:int = 10):\n",
    "        # Runs the model with calls on the network.\n",
    "\n",
    "        # Run the local model.\n",
    "        output = self.local_forward( inputs )\n",
    "\n",
    "        # Select peers to query based on weights + random pertubation.\n",
    "        gamma = 0.9\n",
    "        output.query_weights, output.query_indices = torch.topk(\n",
    "            row_weights + torch.rand_like(row_weights) * gamma, \n",
    "            n_to_query\n",
    "        )\n",
    "        neurons_to_call = [ bittensor.metagraph.neurons()[idx] for idx in output.query_indices.tolist() ]\n",
    "        inputs_to_send = [ inputs for _ in output.query_indices.tolist() ]\n",
    "        output.query_uids = [bittensor.metagraph.uid_for_pubkey(neuron.public_key) for neuron in neurons_to_call]\n",
    "\n",
    "        # Make network calls and then weight-join the responses.\n",
    "        output.codes, responses = bittensor.forward_text( \n",
    "            neurons = neurons_to_call, \n",
    "            inputs = inputs_to_send\n",
    "        )\n",
    "        stacked_responses = torch.stack( responses, dim=2 )\n",
    "        output.remote_context = torch.matmul( torch.transpose( stacked_responses, dim0=2, dim1=3), output.query_weights)\n",
    "\n",
    "        # Compute the distillation loss between the local and remote context\n",
    "        output.distillation_loss = F.mse_loss( output.local_context, output.remote_context.detach() )\n",
    "\n",
    "        # Apply the hidden dense layer to the context.\n",
    "        output.remote_hidden = self.hidden_layer( output.remote_context )\n",
    "\n",
    "        # Project to our target dimension.\n",
    "        output.remote_targets = self.target_layer( output.remote_hidden )\n",
    "\n",
    "        # Compute our loss against our remote context.\n",
    "        shift_targets = output.remote_targets[..., :-1, :].contiguous()\n",
    "        shift_inputs = inputs[..., 1:].contiguous()\n",
    "        output.remote_loss = self.loss_fct(shift_targets.view(-1, shift_targets.size(-1)), shift_inputs.view(-1))\n",
    "\n",
    "        return output"
   ]
  },
  {
   "cell_type": "code",
   "execution_count": 57,
   "metadata": {},
   "outputs": [],
   "source": [
    "model = GPT2Nucleus()\n",
    "mechanism_weights = torch.rand( bittensor.metagraph.n(), requires_grad=True)"
   ]
  },
  {
   "cell_type": "markdown",
   "metadata": {},
   "source": [
    "## **Test-Nucleus** <a class=\"anchor\" id=\"Test-Nucleus\"></a>"
   ]
  },
  {
   "cell_type": "code",
   "execution_count": 59,
   "metadata": {},
   "outputs": [
    {
     "name": "stdout",
     "output_type": "stream",
     "text": [
      "The distillation loss between your local and remote context is  7.146358966827393\n",
      "\n",
      "The loss with respect to your local context and the targets is 11.29544448852539\n",
      "\n",
      "The loss with respect to your remote context and the targets is 10.789047241210938\n",
      "\n",
      "You queried 20 remote neurons with\n",
      "\n",
      "uids\n",
      " [263, 161, 281, 122, 33, 258, 218, 259, 24, 98, 255, 199, 55, 74, 95, 265, 229, 249, 251, 2]\n",
      "\n",
      "response codes\n",
      " [1, 1, 1, 1, 0, 0, 1, 1, 1, 0, 3, 3, 1, 1, 0, 3, 3, 3, 3, 0]\n",
      "\n",
      "and gradients w.r.t the local weights\n",
      " [0.0, 0.0, 0.0, 0.0, -0.003, -0.004, 0.0, 0.0, 0.0, -0.456, 0.0, 0.0, -0.201, 0.0, 0.17, 0.0, 0.0, 0.0, 0.0, 0.247]\n"
     ]
    }
   ],
   "source": [
    "# Test remote forward call.\n",
    "inputs = torch.tensor([bittensor.__tokenizer__()('the cat')['input_ids']])\n",
    "output = model.remote_forward( inputs, mechanism_weights, n_to_query=20)\n",
    "loss = output.local_loss + output.remote_loss + output.distillation_loss\n",
    "loss.backward() #\n",
    "print ('The distillation loss between your local and remote context is  {}\\n'.format(output.distillation_loss))\n",
    "print ('The loss with respect to your local context and the targets is {}\\n'.format(output.local_loss))\n",
    "print ('The loss with respect to your remote context and the targets is {}\\n'.format(output.remote_loss))\n",
    "print ('You queried {} remote neurons with\\n\\nuids\\n {}\\n\\nresponse codes\\n {}\\n'.format(torch.numel(output.codes), output.query_uids, output.codes.tolist()))\n",
    "print ('and gradients w.r.t the local weights\\n', [float('{:0.3f}'.format(mechanism_weights.grad[idx].item())) for idx in output.query_indices.tolist()])\n"
   ]
  },
  {
   "cell_type": "markdown",
   "metadata": {},
   "source": [
    "# **Training** <a class=\"anchor\" id=\"Training\"></a>"
   ]
  },
  {
   "cell_type": "markdown",
   "metadata": {},
   "source": [
    "## **Training-Loop** <a class=\"anchor\" id=\"Training-Loop\"></a>"
   ]
  },
  {
   "cell_type": "code",
   "execution_count": 72,
   "metadata": {},
   "outputs": [
    {
     "name": "stderr",
     "output_type": "stream",
     "text": [
      "Using custom data configuration default\n",
      "Reusing dataset ag_news (/Users/const/.cache/huggingface/datasets/ag_news/default/0.0.0/fb5c5e74a110037311ef5e904583ce9f8b9fbc1354290f97b4929f01b3f48b1a)\n"
     ]
    }
   ],
   "source": [
    "from torch.nn.utils import clip_grad_norm_\n",
    "import torch.nn.functional as F\n",
    "from loguru import logger\n",
    "import random\n",
    "from datasets import load_dataset\n",
    "import time\n",
    "import os\n",
    "\n",
    "# ---- Dataset ---- \n",
    "dataset = load_dataset('ag_news')['train']\n",
    "def nextbatch(data, batch_size, tokenizer):\n",
    "    \"\"\" Returns a random batch of sentences from text dataset.\n",
    "    \"\"\"\n",
    "    batch_text = []\n",
    "    for _ in range(batch_size):\n",
    "        batch_text.append(data[random.randint(0, len(data))]['text'])\n",
    "    batch_inputs = tokenizer(batch_text, return_tensors='pt', padding=True, truncation=True)['input_ids']\n",
    "    return batch_inputs\n",
    "\n",
    "# --- Training Logger ----\n",
    "logger.add('~/logs/training.log', filter=lambda record: \"training\" in record[\"extra\"], enqueue=True, backtrace=True, diagnose=True, rotation=\"500 MB\")\n",
    "def show_training_logs(length: int = 25):\n",
    "    ! tail -n $length '~/logs/training.log'\n",
    "\n",
    "# ---- Tokenizer ----\n",
    "tokenizer = bittensor.__tokenizer__()\n",
    "\n",
    "# ---- Optimizer ----\n",
    "optimizer = torch.optim.SGD([\n",
    "    {'params': model.parameters(), 'lr': 0.001, 'momentum': 0.99},\n",
    "    {'params': local_weights, 'lr': 0.1, 'momentum': 0.99}\n",
    "])\n",
    "\n",
    "# --- Mechanism weights ----\n",
    "mechanism_weights = torch.rand(bittensor.metagraph.n(), requires_grad=True)\n",
    "\n",
    "# ---- Training Loop -----\n",
    "def train( \n",
    "        stop_training: mp.Event,\n",
    "    ):\n",
    "    # ---- Loop until event is set ----\n",
    "    training_step = 0\n",
    "    batch_size = 5\n",
    "    logger.bind(training=True).info('Loop starting... ')\n",
    "    while not stop_training.is_set():\n",
    "        try:\n",
    "            optimizer.zero_grad() # Zeros out gradients for next accummulation\n",
    "\n",
    "            # ---- Forward pass ----\n",
    "            inputs = nextbatch( dataset, batch_size, tokenizer )\n",
    "            outputs = model.remote_forward( inputs, mechanism_weights, n_to_query=20 )\n",
    "\n",
    "            # ---- Backward pass ----\n",
    "            loss = outputs.local_loss + outputs.remote_loss + outputs.distillation_loss\n",
    "            loss.backward() # Accumulates gradients on the model.\n",
    "            clip_grad_norm_(model.parameters(), 0.8) # clip model gradients\n",
    "            optimizer.step() # Applies accumulated gradients.\n",
    "\n",
    "            # ---- Step logs ----\n",
    "            logger.bind(training=True).info('->\\nuids:{}\\ncodes:{}\\nweights:{}\\ngrads:{}', \n",
    "                  outputs.query_uids, \n",
    "                  outputs.codes.tolist(), \n",
    "                  [float('{:0.3f}'.format(x)) for x in outputs.query_weights.tolist()],\n",
    "                  [float('{:0.3f}'.format(mechanism_weights.grad[idx].item())) for idx in outputs.query_indices.tolist()])      \n",
    "            logger.bind(training=True).info('gs:{} loss(local):{} loss(remote):{} loss(distill):{} dendrite:{}',\n",
    "                  colored('{}'.format( training_step ), 'red'),\n",
    "                  colored('{:.4f}'.format(outputs.local_loss.item()), 'green'),\n",
    "                  colored('{:.4f}'.format(outputs.remote_loss.item()), 'blue'),\n",
    "                  colored('{:.4f}'.format(outputs.distillation_loss.item()), 'red'),\n",
    "                  bittensor.neuron.dendrite.toString())\n",
    "            training_step += 1\n",
    "        except Exception as e:\n",
    "            logger.bind(training=True).exception(\"Training iteration exception.\")\n",
    "    logger.bind(training=True).complete()"
   ]
  },
  {
   "cell_type": "markdown",
   "metadata": {},
   "source": [
    "## **Training-Thread-Runners** <a class=\"anchor\" id=\"Training-Thread-Runners\"></a>"
   ]
  },
  {
   "cell_type": "code",
   "execution_count": 74,
   "metadata": {},
   "outputs": [],
   "source": [
    "import threading\n",
    "import torch.multiprocessing as mp \n",
    "import sys\n",
    "\n",
    "join_timeout = 10\n",
    "\n",
    "if 'quit_training' in locals():\n",
    "    quit_training.set()\n",
    "if 'training_thread' in locals() and training_thread.is_alive():\n",
    "    training_thread.join( timeout = join_timeout )\n",
    "\n",
    "quit_training = mp.Event()\n",
    "training_thread = threading.Thread( target = train, args = (quit_training,),  name = 'training', daemon=True)\n",
    "\n",
    "def stop_training():\n",
    "    global quit_training\n",
    "    global training_thread\n",
    "    quit_training.set()\n",
    "    if not training_thread.is_alive():\n",
    "        return\n",
    "    logger.bind(training=True).info(\"Joining...\")\n",
    "    training_thread.join( timeout = join_timeout )\n",
    "    if not training_thread.is_alive():\n",
    "        print ('Joined training thread',)\n",
    "        logger.bind(training=True).info('Joined.')\n",
    "    else:\n",
    "        print ('Failed to join training thread')\n",
    "\n",
    "def start_training():\n",
    "    global quit_training\n",
    "    global training_thread\n",
    "    stop_training()\n",
    "    quit_training = mp.Event()\n",
    "    training_thread = threading.Thread( target = train, args = (quit_training,), name = 'training', daemon=True)\n",
    "    training_thread.start()\n",
    "    logger.bind(training=True).info(\"Started training.\")\n",
    "    print('new training thread:', training_thread)"
   ]
  },
  {
   "cell_type": "code",
   "execution_count": 75,
   "metadata": {},
   "outputs": [
    {
     "name": "stdout",
     "output_type": "stream",
     "text": [
      "new training thread: <Thread(training, started daemon 123145431986176)>\n"
     ]
    }
   ],
   "source": [
    "start_training()"
   ]
  },
  {
   "cell_type": "code",
   "execution_count": 76,
   "metadata": {},
   "outputs": [
    {
     "name": "stdout",
     "output_type": "stream",
     "text": [
      "True\n"
     ]
    }
   ],
   "source": [
    "print (training_thread.is_alive())"
   ]
  },
  {
   "cell_type": "code",
   "execution_count": 73,
   "metadata": {},
   "outputs": [
    {
     "name": "stdout",
     "output_type": "stream",
     "text": [
      "Joined training thread\n"
     ]
    }
   ],
   "source": [
    "stop_training()"
   ]
  },
  {
   "cell_type": "code",
   "execution_count": 82,
   "metadata": {},
   "outputs": [
    {
     "name": "stdout",
     "output_type": "stream",
     "text": [
      "                            └ tensor([9.0998e-03, 7.2026e-01, 7.7633e-01, 4.0054e-01, 9.7275e-03, 7.1061e-01,\n",
      "                                      3.2704e-01, 9.0446e-01, 1.6183e-01, 1...\n",
      "\n",
      "TypeError: 'NoneType' object is not subscriptable\n",
      "2021-03-16 12:54:52.680 | INFO     | __main__:stop_training:21 - Joining...\n",
      "2021-03-16 12:54:59.377 | INFO     | __main__:train:64 - ->\n",
      "uids:[188, 230, 179, 229, 9, 223, 25, 225, 267, 214]\n",
      "codes:[1, 1, 1, 3, 1, 1, 3, 1, 0, 1]\n",
      "weights:[1.867, 1.856, 1.847, 1.754, 1.735, 1.692, 1.682, 1.659, 1.645, 1.637]\n",
      "grads:[0.0, 0.0, 0.0, 0.0, 0.0, 0.0, 0.0, 0.0, 0.009, 0.0]\n",
      "2021-03-16 12:54:59.378 | INFO     | __main__:train:70 - gs:\u001b[31m10\u001b[0m loss(local):\u001b[32m10.6946\u001b[0m loss(remote):\u001b[34m10.8299\u001b[0m loss(distill):\u001b[31m1.2211\u001b[0m dendrite:(\u001b[34m0.059\u001b[0mq/s|\u001b[32m⤊ 1052.4\u001b[0m/\u001b[31m⤋ 0.1\u001b[0mkB/s)\n",
      "2021-03-16 12:54:59.379 | INFO     | __main__:stop_training:25 - Joined.\n",
      "2021-03-16 12:54:59.508 | INFO     | __main__:train:44 - Loop starting... \n",
      "2021-03-16 12:54:59.508 | INFO     | __main__:start_training:36 - Started training.\n",
      "2021-03-16 12:55:08.585 | INFO     | __main__:train:64 - ->\n",
      "uids:[234, 155, 107, 217, 267, 223, 128, 33, 101, 12, 195, 233, 216, 3, 112, 262, 185, 259, 273, 149]\n",
      "codes:[3, 1, 1, 1, 0, 1, 3, 1, 1, 3, 1, 1, 1, 1, 1, 0, 1, 1, 1, 1]\n",
      "weights:[1.819, 1.748, 1.694, 1.673, 1.658, 1.638, 1.603, 1.584, 1.579, 1.576, 1.572, 1.563, 1.538, 1.535, 1.517, 1.515, 1.498, 1.492, 1.479, 1.478]\n",
      "grads:[0.0, 0.0, 0.0, 0.0, 0.037, 0.0, 0.0, 0.0, 0.0, 0.0, 0.0, 0.0, 0.0, 0.0, 0.0, -0.024, 0.0, 0.0, 0.0, 0.0]\n",
      "2021-03-16 12:55:08.586 | INFO     | __main__:train:70 - gs:\u001b[31m0\u001b[0m loss(local):\u001b[32m10.3307\u001b[0m loss(remote):\u001b[34m10.8079\u001b[0m loss(distill):\u001b[31m1.5668\u001b[0m dendrite:(\u001b[34m0.059\u001b[0mq/s|\u001b[32m⤊ 1094.0\u001b[0m/\u001b[31m⤋ 0.1\u001b[0mkB/s)\n",
      "2021-03-16 12:55:16.710 | INFO     | __main__:train:64 - ->\n",
      "uids:[235, 128, 268, 188, 81, 237, 229, 223, 152, 217, 25, 269, 253, 267, 225, 72, 57, 61, 107, 230]\n",
      "codes:[0, 1, 3, 1, 1, 1, 3, 1, 3, 1, 3, 3, 1, 0, 1, 3, 1, 1, 1, 1]\n",
      "weights:[1.859, 1.802, 1.768, 1.728, 1.722, 1.682, 1.671, 1.656, 1.63, 1.628, 1.626, 1.622, 1.616, 1.612, 1.591, 1.582, 1.557, 1.556, 1.493, 1.458]\n",
      "grads:[0.012, 0.0, 0.0, 0.0, 0.0, 0.0, 0.0, 0.0, 0.0, 0.0, 0.0, 0.0, 0.0, 0.047, 0.0, 0.0, 0.0, 0.0, 0.0, 0.0]\n",
      "2021-03-16 12:55:16.712 | INFO     | __main__:train:70 - gs:\u001b[31m1\u001b[0m loss(local):\u001b[32m10.4982\u001b[0m loss(remote):\u001b[34m10.8303\u001b[0m loss(distill):\u001b[31m1.6026\u001b[0m dendrite:(\u001b[34m0.060\u001b[0mq/s|\u001b[32m⤊ 1144.9\u001b[0m/\u001b[31m⤋ 0.1\u001b[0mkB/s)\n",
      "2021-03-16 12:55:22.789 | INFO     | __main__:train:64 - ->\n",
      "uids:[268, 9, 237, 217, 240, 164, 167, 219, 155, 234, 214, 145, 276, 183, 68, 273, 90, 177, 259, 179]\n",
      "codes:[3, 1, 1, 1, 1, 1, 1, 1, 1, 3, 1, 3, 1, 1, 3, 3, 1, 3, 3, 1]\n",
      "weights:[1.72, 1.715, 1.685, 1.674, 1.665, 1.664, 1.639, 1.635, 1.63, 1.622, 1.615, 1.609, 1.602, 1.581, 1.546, 1.544, 1.543, 1.533, 1.532, 1.53]\n",
      "grads:[0.0, 0.0, 0.0, 0.0, 0.0, 0.0, 0.0, 0.0, 0.0, 0.0, 0.0, 0.0, 0.0, 0.0, 0.0, 0.0, 0.0, 0.0, 0.0, 0.0]\n",
      "2021-03-16 12:55:22.790 | INFO     | __main__:train:70 - gs:\u001b[31m2\u001b[0m loss(local):\u001b[32m10.6464\u001b[0m loss(remote):\u001b[34m10.8271\u001b[0m loss(distill):\u001b[31m0.9996\u001b[0m dendrite:(\u001b[34m0.061\u001b[0mq/s|\u001b[32m⤊ 1194.2\u001b[0m/\u001b[31m⤋ 0.1\u001b[0mkB/s)\n",
      "2021-03-16 12:55:30.676 | INFO     | __main__:train:64 - ->\n",
      "uids:[202, 84, 262, 42, 177, 240, 3, 128, 221, 195, 101, 12, 276, 206, 116, 152, 93, 269, 233, 155]\n",
      "codes:[1, 1, 0, 1, 3, 1, 1, 1, 3, 1, 1, 3, 1, 1, 3, 3, 1, 3, 1, 1]\n",
      "weights:[1.836, 1.765, 1.721, 1.714, 1.693, 1.691, 1.676, 1.654, 1.654, 1.641, 1.633, 1.613, 1.609, 1.589, 1.576, 1.574, 1.568, 1.533, 1.526, 1.523]\n",
      "grads:[0.0, 0.0, -0.038, 0.0, 0.0, 0.0, 0.0, 0.0, 0.0, 0.0, 0.0, 0.0, 0.0, 0.0, 0.0, 0.0, 0.0, 0.0, 0.0, 0.0]\n",
      "2021-03-16 12:55:30.677 | INFO     | __main__:train:70 - gs:\u001b[31m3\u001b[0m loss(local):\u001b[32m10.5933\u001b[0m loss(remote):\u001b[34m10.7776\u001b[0m loss(distill):\u001b[31m1.4805\u001b[0m dendrite:(\u001b[34m0.062\u001b[0mq/s|\u001b[32m⤊ 1218.1\u001b[0m/\u001b[31m⤋ 0.1\u001b[0mkB/s)\n",
      "2021-03-16 12:55:37.747 | INFO     | __main__:train:64 - ->\n",
      "uids:[71, 269, 42, 240, 276, 203, 199, 253, 230, 188, 177, 268, 107, 143, 259, 262, 115, 101, 12, 270]\n",
      "codes:[1, 3, 1, 1, 1, 1, 3, 1, 3, 1, 3, 3, 1, 1, 1, 0, 1, 1, 3, 3]\n",
      "weights:[1.84, 1.751, 1.714, 1.707, 1.704, 1.697, 1.688, 1.68, 1.675, 1.662, 1.656, 1.609, 1.604, 1.568, 1.555, 1.551, 1.526, 1.526, 1.523, 1.521]\n",
      "grads:[0.0, 0.0, 0.0, 0.0, 0.0, 0.0, 0.0, 0.0, 0.0, 0.0, 0.0, 0.0, 0.0, 0.0, 0.0, -0.033, 0.0, 0.0, 0.0, 0.0]\n",
      "2021-03-16 12:55:37.748 | INFO     | __main__:train:70 - gs:\u001b[31m4\u001b[0m loss(local):\u001b[32m10.5804\u001b[0m loss(remote):\u001b[34m10.8151\u001b[0m loss(distill):\u001b[31m1.3795\u001b[0m dendrite:(\u001b[34m0.062\u001b[0mq/s|\u001b[32m⤊ 1235.6\u001b[0m/\u001b[31m⤋ 0.1\u001b[0mkB/s)\n",
      "2021-03-16 12:55:44.249 | INFO     | __main__:train:64 - ->\n",
      "uids:[235, 240, 230, 221, 179, 188, 107, 155, 145, 269, 81, 233, 97, 0, 270, 72, 183, 26, 216, 82]\n",
      "codes:[1, 1, 1, 3, 1, 1, 1, 3, 3, 3, 1, 1, 1, 1, 1, 3, 1, 3, 1, 1]\n",
      "weights:[1.853, 1.805, 1.793, 1.776, 1.769, 1.717, 1.669, 1.668, 1.664, 1.655, 1.624, 1.619, 1.613, 1.577, 1.576, 1.56, 1.535, 1.519, 1.51, 1.502]\n",
      "grads:[0.012, 0.0, 0.0, 0.0, 0.0, 0.0, 0.0, 0.0, 0.0, 0.0, 0.0, 0.0, 0.0, 0.0, 0.0, 0.0, 0.0, 0.0, 0.0, 0.0]\n",
      "2021-03-16 12:55:44.250 | INFO     | __main__:train:70 - gs:\u001b[31m5\u001b[0m loss(local):\u001b[32m10.2944\u001b[0m loss(remote):\u001b[34m10.8265\u001b[0m loss(distill):\u001b[31m0.9996\u001b[0m dendrite:(\u001b[34m0.063\u001b[0mq/s|\u001b[32m⤊ 1234.2\u001b[0m/\u001b[31m⤋ 0.1\u001b[0mkB/s)\n"
     ]
    }
   ],
   "source": [
    "show_training_logs(50)"
   ]
  },
  {
   "cell_type": "markdown",
   "metadata": {},
   "source": [
    "# **Serving** <a class=\"anchor\" id=\"Serving\"></a>"
   ]
  },
  {
   "cell_type": "code",
   "execution_count": 83,
   "metadata": {},
   "outputs": [],
   "source": [
    "# Start the axon endpoint.\n",
    "bittensor.axon.start()"
   ]
  },
  {
   "cell_type": "markdown",
   "metadata": {},
   "source": [
    "## **Serving-Loop** <a class=\"anchor\" id=\"Serving-Loop\"></a>"
   ]
  },
  {
   "cell_type": "code",
   "execution_count": 93,
   "metadata": {},
   "outputs": [],
   "source": [
    "# ---- Serving logger ----\n",
    "logger.add('~/logs/serving.log', filter=lambda record: \"serving\" in record[\"extra\"], enqueue=True, backtrace=True, diagnose=True, rotation=\"500 MB\")\n",
    "def show_serving_logs(length: int = 25):\n",
    "    ! tail -n $length '~/logs/serving.log'\n",
    "\n",
    "# ---- Serving loop -----\n",
    "def serve ( \n",
    "  stop_serving: mp.Event,\n",
    "):\n",
    "\n",
    "    # ---- Loop until event is set -----\n",
    "    serving_step = 0\n",
    "    logger.bind(serving=True).info('Serving thread started: ')\n",
    "    while not stop_serving.is_set():\n",
    "\n",
    "        # ---- Pull request ----\n",
    "        logger.bind(serving=True).info('Axon:{}, waiting for query ... ', bittensor.axon.toString())\n",
    "        pong, pubkey, inputs, modality = bittensor.axon.next_forward_item( timeout = 10.0 )\n",
    "\n",
    "        # ---- Process request ----\n",
    "        if None not in [ pong, pubkey, inputs, modality]:\n",
    "            logger.bind(serving=True).info('Recieved Query: from:{}, inputs.shape:{}', pubkey, inputs.shape)\n",
    "            try:          \n",
    "                outputs = model.local_forward( inputs ).local_hidden\n",
    "                pong.send( outputs.detach() )\n",
    "                logger.bind(serving=True).info('Sent response: to:{}, outputs.shape:{}', pubkey, outputs.shape)\n",
    "\n",
    "            except Exception as e:\n",
    "                logger.bind(serving=True).exception('Error in forward process with error {}', e)\n",
    "                continue\n",
    "\n",
    "      # ---- Tensorboard ----\n",
    "      #bittensor.neuron.axon.toTensorboard(serving_tensorboard, serving_step)"
   ]
  },
  {
   "cell_type": "markdown",
   "metadata": {},
   "source": [
    "## **Serving-Thread-Runners** <a class=\"anchor\" id=\"Serving-Thread-Runners\"></a>"
   ]
  },
  {
   "cell_type": "code",
   "execution_count": 95,
   "metadata": {},
   "outputs": [],
   "source": [
    "join_timeout = 10\n",
    "\n",
    "if 'quit_serving' in locals():\n",
    "    quit_serving.set()\n",
    "if 'serving_thread' in locals() and serving_thread.is_alive():\n",
    "    serving_thread.join( timeout = join_timeout )\n",
    "\n",
    "quit_serving = mp.Event()\n",
    "serving_thread = threading.Thread( target = serve, args = (quit_serving,),  name = 'serving', daemon=True)\n",
    "\n",
    "def stop_serving():\n",
    "    global quit_serving\n",
    "    global serving_thread\n",
    "    quit_serving.set()\n",
    "    if serving_thread.is_alive():\n",
    "        logger.bind(serving=True).info(\"Joining...\")\n",
    "        serving_thread.join( timeout = join_timeout )\n",
    "    if not serving_thread.is_alive():\n",
    "        print ('Joined serving thread',)\n",
    "        logger.bind(serving=True).info('Joined.')\n",
    "    else:\n",
    "        print ('Failed to join serving thread')\n",
    "\n",
    "def start_serving():\n",
    "    global quit_serving\n",
    "    global serving_thread\n",
    "    stop_serving()\n",
    "    quit_serving = mp.Event()\n",
    "    serving_thread = threading.Thread( target = serve, args = (quit_serving,), name = 'serving', daemon=True)\n",
    "    serving_thread.start()\n",
    "    logger.bind(serving=True).info(\"Started serving.\")\n",
    "    print('new serving thread:', serving_thread)\n"
   ]
  },
  {
   "cell_type": "code",
   "execution_count": 96,
   "metadata": {},
   "outputs": [
    {
     "name": "stdout",
     "output_type": "stream",
     "text": [
      "Joined serving thread\n",
      "new serving thread: <Thread(serving, started daemon 123145881784320)>\n"
     ]
    }
   ],
   "source": [
    "start_serving()"
   ]
  },
  {
   "cell_type": "code",
   "execution_count": 97,
   "metadata": {},
   "outputs": [
    {
     "name": "stdout",
     "output_type": "stream",
     "text": [
      "True\n"
     ]
    }
   ],
   "source": [
    "print (serving_thread.is_alive())"
   ]
  },
  {
   "cell_type": "code",
   "execution_count": 94,
   "metadata": {},
   "outputs": [
    {
     "name": "stdout",
     "output_type": "stream",
     "text": [
      "Joined serving thread\n"
     ]
    }
   ],
   "source": [
    "stop_serving()"
   ]
  },
  {
   "cell_type": "code",
   "execution_count": 109,
   "metadata": {},
   "outputs": [
    {
     "name": "stdout",
     "output_type": "stream",
     "text": [
      "2021-03-16 12:57:24.454 | INFO     | __main__:serve:13 - Serving thread started: \n",
      "2021-03-16 12:57:24.454 | INFO     | __main__:serve:17 - Axon:(\u001b[34m0.000\u001b[0mq/s|\u001b[32m⤊ 0.0\u001b[0m/\u001b[31m⤋ 0.0\u001b[0mkB/s), waiting for query ... \n",
      "2021-03-16 12:57:24.452 | INFO     | __main__:stop_serving:20 - Joined.\n",
      "2021-03-16 12:57:24.454 | INFO     | __main__:serve:13 - Serving thread started: \n",
      "2021-03-16 12:57:24.455 | INFO     | __main__:start_serving:31 - Started serving.\n",
      "2021-03-16 12:57:24.454 | INFO     | __main__:serve:17 - Axon:(\u001b[34m0.000\u001b[0mq/s|\u001b[32m⤊ 0.0\u001b[0m/\u001b[31m⤋ 0.0\u001b[0mkB/s), waiting for query ... \n",
      "2021-03-16 12:57:24.455 | INFO     | __main__:start_serving:31 - Started serving.\n",
      "2021-03-16 12:57:34.455 | INFO     | __main__:serve:17 - Axon:(\u001b[34m0.000\u001b[0mq/s|\u001b[32m⤊ 0.0\u001b[0m/\u001b[31m⤋ 0.0\u001b[0mkB/s), waiting for query ... \n",
      "2021-03-16 12:57:34.455 | INFO     | __main__:serve:17 - Axon:(\u001b[34m0.000\u001b[0mq/s|\u001b[32m⤊ 0.0\u001b[0m/\u001b[31m⤋ 0.0\u001b[0mkB/s), waiting for query ... \n",
      "2021-03-16 12:57:44.457 | INFO     | __main__:serve:17 - Axon:(\u001b[34m0.000\u001b[0mq/s|\u001b[32m⤊ 0.0\u001b[0m/\u001b[31m⤋ 0.0\u001b[0mkB/s), waiting for query ... \n",
      "2021-03-16 12:57:44.457 | INFO     | __main__:serve:17 - Axon:(\u001b[34m0.000\u001b[0mq/s|\u001b[32m⤊ 0.0\u001b[0m/\u001b[31m⤋ 0.0\u001b[0mkB/s), waiting for query ... \n",
      "2021-03-16 12:57:54.458 | INFO     | __main__:serve:17 - Axon:(\u001b[34m0.000\u001b[0mq/s|\u001b[32m⤊ 0.0\u001b[0m/\u001b[31m⤋ 0.0\u001b[0mkB/s), waiting for query ... \n",
      "2021-03-16 12:57:54.458 | INFO     | __main__:serve:17 - Axon:(\u001b[34m0.000\u001b[0mq/s|\u001b[32m⤊ 0.0\u001b[0m/\u001b[31m⤋ 0.0\u001b[0mkB/s), waiting for query ... \n",
      "2021-03-16 12:58:04.459 | INFO     | __main__:serve:17 - Axon:(\u001b[34m0.000\u001b[0mq/s|\u001b[32m⤊ 0.0\u001b[0m/\u001b[31m⤋ 0.0\u001b[0mkB/s), waiting for query ... \n",
      "2021-03-16 12:58:04.459 | INFO     | __main__:serve:17 - Axon:(\u001b[34m0.000\u001b[0mq/s|\u001b[32m⤊ 0.0\u001b[0m/\u001b[31m⤋ 0.0\u001b[0mkB/s), waiting for query ... \n",
      "2021-03-16 12:58:14.461 | INFO     | __main__:serve:17 - Axon:(\u001b[34m0.000\u001b[0mq/s|\u001b[32m⤊ 0.0\u001b[0m/\u001b[31m⤋ 0.0\u001b[0mkB/s), waiting for query ... \n",
      "2021-03-16 12:58:14.461 | INFO     | __main__:serve:17 - Axon:(\u001b[34m0.000\u001b[0mq/s|\u001b[32m⤊ 0.0\u001b[0m/\u001b[31m⤋ 0.0\u001b[0mkB/s), waiting for query ... \n",
      "2021-03-16 12:58:24.465 | INFO     | __main__:serve:17 - Axon:(\u001b[34m0.000\u001b[0mq/s|\u001b[32m⤊ 0.0\u001b[0m/\u001b[31m⤋ 0.0\u001b[0mkB/s), waiting for query ... \n",
      "2021-03-16 12:58:24.465 | INFO     | __main__:serve:17 - Axon:(\u001b[34m0.000\u001b[0mq/s|\u001b[32m⤊ 0.0\u001b[0m/\u001b[31m⤋ 0.0\u001b[0mkB/s), waiting for query ... \n",
      "2021-03-16 12:58:34.467 | INFO     | __main__:serve:17 - Axon:(\u001b[34m0.000\u001b[0mq/s|\u001b[32m⤊ 0.0\u001b[0m/\u001b[31m⤋ 0.0\u001b[0mkB/s), waiting for query ... \n",
      "2021-03-16 12:58:34.467 | INFO     | __main__:serve:17 - Axon:(\u001b[34m0.000\u001b[0mq/s|\u001b[32m⤊ 0.0\u001b[0m/\u001b[31m⤋ 0.0\u001b[0mkB/s), waiting for query ... \n",
      "2021-03-16 12:58:44.470 | INFO     | __main__:serve:17 - Axon:(\u001b[34m0.000\u001b[0mq/s|\u001b[32m⤊ 0.0\u001b[0m/\u001b[31m⤋ 0.0\u001b[0mkB/s), waiting for query ... \n",
      "2021-03-16 12:58:44.470 | INFO     | __main__:serve:17 - Axon:(\u001b[34m0.000\u001b[0mq/s|\u001b[32m⤊ 0.0\u001b[0m/\u001b[31m⤋ 0.0\u001b[0mkB/s), waiting for query ... \n",
      "2021-03-16 12:58:54.473 | INFO     | __main__:serve:17 - Axon:(\u001b[34m0.000\u001b[0mq/s|\u001b[32m⤊ 0.0\u001b[0m/\u001b[31m⤋ 0.0\u001b[0mkB/s), waiting for query ... \n",
      "2021-03-16 12:58:54.473 | INFO     | __main__:serve:17 - Axon:(\u001b[34m0.000\u001b[0mq/s|\u001b[32m⤊ 0.0\u001b[0m/\u001b[31m⤋ 0.0\u001b[0mkB/s), waiting for query ... \n"
     ]
    }
   ],
   "source": [
    "show_serving_logs(25)"
   ]
  },
  {
   "cell_type": "markdown",
   "metadata": {},
   "source": [
    "## **Test-Serving** <a class=\"anchor\" id=\"Test-Serving\"></a>"
   ]
  },
  {
   "cell_type": "code",
   "execution_count": 138,
   "metadata": {},
   "outputs": [
    {
     "name": "stdout",
     "output_type": "stream",
     "text": [
      "\u001b[34mQuerying endpoint: 190.119.146.134:8091\u001b[0m\n",
      "\u001b[31mFailure with code: 1\u001b[0m\n",
      "\u001b[31mEnsure your axon is started with bittensor.axon.start()\u001b[0m\n",
      "\u001b[31mEnsure your endpoint is accessable from the internet, perhaps behind your router's NAT?: {}\u001b[0m\n"
     ]
    }
   ],
   "source": [
    "axon_endpoint = bittensor.proto.Neuron(\n",
    "    address = bittensor.neuron.config.axon.external_ip,\n",
    "    port = bittensor.neuron.config.axon.external_port,\n",
    "    public_key = wallet.hotkey.public_key\n",
    ")\n",
    "start_time = time.time()\n",
    "codes, responses = bittensor.forward_text( \n",
    "    neurons = [ axon_endpoint ],\n",
    "    inputs = [ torch.tensor([[1]]) ]\n",
    ")\n",
    "end_time = time.time()\n",
    "print(colored('Querying endpoint: {}:{}'.format(axon_endpoint.address, axon_endpoint.port), 'blue'))\n",
    "if codes.item() == bittensor.proto.ReturnCode.Success:\n",
    "    print(colored('Success', 'green'))\n",
    "    print(colored('Response shape: {}'.format(responses[0].shape) , 'green'))\n",
    "    print(colored('Query time: {}'.format(end_time - start_time) , 'green'))\n",
    "else:\n",
    "    print(colored('Failure with code: {}'.format(codes.item()), 'red'))\n",
    "    print(colored('Ensure your axon is started with bittensor.axon.start()', 'red'))\n",
    "    print(colored('Ensure your endpoint is accessable from the internet, perhaps behind your router\\'s NAT?: {}', 'red'))\n"
   ]
  },
  {
   "cell_type": "markdown",
   "metadata": {},
   "source": [
    "# Weights"
   ]
  },
  {
   "cell_type": "markdown",
   "metadata": {},
   "source": [
    "## **Visualizing Weights**"
   ]
  },
  {
   "cell_type": "code",
   "execution_count": 137,
   "metadata": {},
   "outputs": [],
   "source": [
    "import seaborn as sns\n",
    "import pandas as pd\n",
    "import matplotlib.pyplot as plt\n",
    "import numpy as np\n",
    "\n",
    "weights = np.sort(F.normalize(mechanism_weights.detach(), p = 1, dim = 0).numpy())\n",
    "uids = bittensor.metagraph.uids().numpy()\n",
    "df = pd.DataFrame({'uids': uids, 'weights':weights})"
   ]
  },
  {
   "cell_type": "code",
   "execution_count": 136,
   "metadata": {},
   "outputs": [
    {
     "data": {
      "text/plain": [
       "<AxesSubplot:ylabel='weights'>"
      ]
     },
     "execution_count": 136,
     "metadata": {},
     "output_type": "execute_result"
    },
    {
     "data": {
      "image/png": "[encoded data removed]",
      "text/plain": [
       "<Figure size 1080x1080 with 1 Axes>"
      ]
     },
     "metadata": {},
     "output_type": "display_data"
    }
   ],
   "source": [
    "sns.set_theme(style=\"whitegrid\")\n",
    "sns.set_color_codes(\"pastel\")\n",
    "\n",
    "# Initialize the matplotlib figure\n",
    "f, ax = plt.subplots(figsize=(15, 15))\n",
    "\n",
    "# # Plot the total crashes\n",
    "sns.set_color_codes(\"pastel\")\n",
    "sns.barplot( x=np.array(range(weights.size)), y=df['weights'] )"
   ]
  },
  {
   "cell_type": "markdown",
   "metadata": {},
   "source": [
    "# **Transactions** <a class=\"anchor\" id=\"Transactions\"></a>"
   ]
  },
  {
   "cell_type": "markdown",
   "metadata": {},
   "source": [
    "## **Unstaking-Funds** <a class=\"anchor\" id=\"Unstaking-Funds\"></a>"
   ]
  },
  {
   "cell_type": "code",
   "execution_count": 110,
   "metadata": {},
   "outputs": [
    {
     "name": "stdout",
     "output_type": "stream",
     "text": [
      "\u001b[34mSending Extrinsic: [Unstake: 0.1 Tao from hotkey: 0x80cacfbdf7b155b39de22680a7cb14c61a8f95df702c92f5f142d25cca37c545]\u001b[0m\n",
      "waiting for finalization...\n"
     ]
    },
    {
     "name": "stdin",
     "output_type": "stream",
     "text": [
      "Enter password to unlock key:  ··············\n"
     ]
    },
    {
     "name": "stdout",
     "output_type": "stream",
     "text": [
      "decrypting key... (this may take a few moments)\n",
      "\u001b[32mLoaded coldkey: 0x3c9cd1679888e5660b0c8e4b8a17a1719c0cb7f05b5c624a856b421b52290515\u001b[0m\n",
      "\u001b[32mUnstaked: 0.1 Tao from hotkey: 0x80cacfbdf7b155b39de22680a7cb14c61a8f95df702c92f5f142d25cca37c545 to coldkey.pub: 0x3c9cd1679888e5660b0c8e4b8a17a1719c0cb7f05b5c624a856b421b52290515\u001b[0m\n",
      "\u001b[32mYour coldkey has new balance: 0.2 Tao\u001b[0m\n",
      "\u001b[32mYour hotkey has new stake: 112.067646278 Tao\u001b[0m\n"
     ]
    }
   ],
   "source": [
    "from bittensor.utils.balance import Balance\n",
    "amount_tao = 0.1\n",
    "amount = Balance.from_float( amount_tao )\n",
    "print(colored(\"Sending Extrinsic: [Unstake: {} Tao from hotkey: {}]\".format( amount.tao, wallet.hotkey.public_key) , 'blue'))\n",
    "print ('waiting for finalization...')\n",
    "result = bittensor.subtensor.unstake( amount, wallet.hotkey.public_key, wait_for_finalization = True, timeout = bittensor.__blocktime__ * 5)\n",
    "if result:\n",
    "    new_balance = bittensor.subtensor.get_balance(wallet.coldkeypub)\n",
    "    new_stake = bittensor.subtensor.get_stake_for_uid( bittensor.metagraph.uid_for_pubkey(wallet.hotkey.public_key) )\n",
    "    print(colored(\"Unstaked: {} Tao from hotkey: {} to coldkey.pub: {}\".format( amount.tao, wallet.hotkey.public_key, wallet.coldkey.public_key ) , 'green'))\n",
    "    print(colored(\"Your coldkey has new balance: {} Tao\".format( new_balance.tao ) , 'green'))\n",
    "    print(colored(\"Your hotkey has new stake: {} Tao\".format( new_stake.tao ) , 'green'))\n",
    "else:\n",
    "    print(colored(\"Unstaking transaction failed\", 'red'))"
   ]
  },
  {
   "cell_type": "markdown",
   "metadata": {},
   "source": [
    "## **Staking-Funds** <a class=\"anchor\" id=\"Staking-Funds\"></a>"
   ]
  },
  {
   "cell_type": "code",
   "execution_count": 111,
   "metadata": {},
   "outputs": [
    {
     "name": "stdout",
     "output_type": "stream",
     "text": [
      "\u001b[34mSending Extrinsic: [Stake: 0.1 Tao to hotkey: 0x80cacfbdf7b155b39de22680a7cb14c61a8f95df702c92f5f142d25cca37c545]\u001b[0m\n",
      "waiting for finalization...\n",
      "\u001b[32mStaked: 0.1 Tao to hotkey: 0x80cacfbdf7b155b39de22680a7cb14c61a8f95df702c92f5f142d25cca37c545 from coldkey.pub: 0x3c9cd1679888e5660b0c8e4b8a17a1719c0cb7f05b5c624a856b421b52290515\u001b[0m\n",
      "\u001b[32mYour coldkey has new balance: 0.1 Tao\u001b[0m\n",
      "\u001b[32mYour hotkey has new stake: 112.170295159 Tao\u001b[0m\n"
     ]
    }
   ],
   "source": [
    "from bittensor.utils.balance import Balance \n",
    "amount_tao = 0.1\n",
    "amount = Balance.from_float( amount_tao )\n",
    "print(colored(\"Sending Extrinsic: [Stake: {} Tao to hotkey: {}]\".format( amount.tao, wallet.hotkey.public_key) , 'blue'))\n",
    "print ('waiting for finalization...')\n",
    "result = bittensor.subtensor.add_stake( amount, wallet.hotkey.public_key, wait_for_finalization = True, timeout = bittensor.__blocktime__ * 5)\n",
    "if result:\n",
    "  new_balance = bittensor.subtensor.get_balance(wallet.coldkeypub)\n",
    "  new_stake = bittensor.subtensor.get_stake_for_uid(bittensor.metagraph.uid_for_pubkey(wallet.hotkey.public_key))\n",
    "  print(colored(\"Staked: {} Tao to hotkey: {} from coldkey.pub: {}\".format( amount.tao, wallet.hotkey.public_key, wallet.coldkey.public_key ) , 'green'))\n",
    "  print(colored(\"Your coldkey has new balance: {} Tao\".format( new_balance.tao ) , 'green'))\n",
    "  print(colored(\"Your hotkey has new stake: {} Tao\".format( new_stake.tao ) , 'green'))\n",
    "\n",
    "else:\n",
    "  print(colored(\"Staking transaction failed\", 'red'))"
   ]
  },
  {
   "cell_type": "markdown",
   "metadata": {},
   "source": [
    "## **Transfering-Funds** <a class=\"anchor\" id=\"Transfering-Funds\"></a>"
   ]
  },
  {
   "cell_type": "code",
   "execution_count": 201,
   "metadata": {},
   "outputs": [
    {
     "ename": "AttributeError",
     "evalue": "module 'bittensor' has no attribute 'utils'",
     "output_type": "error",
     "traceback": [
      "\u001b[0;31m---------------------------------------------------------------------------\u001b[0m",
      "\u001b[0;31mAttributeError\u001b[0m                            Traceback (most recent call last)",
      "\u001b[0;32m<ipython-input-201-b3725e020ef7>\u001b[0m in \u001b[0;36m<module>\u001b[0;34m\u001b[0m\n\u001b[1;32m      1\u001b[0m \u001b[0mamount\u001b[0m \u001b[0;34m=\u001b[0m \u001b[0;36m0.01\u001b[0m\u001b[0;34m\u001b[0m\u001b[0;34m\u001b[0m\u001b[0m\n\u001b[0;32m----> 2\u001b[0;31m \u001b[0mdestination_public_key\u001b[0m \u001b[0;34m=\u001b[0m \u001b[0mwallet\u001b[0m\u001b[0;34m.\u001b[0m\u001b[0mcoldkey\u001b[0m\u001b[0;34m.\u001b[0m\u001b[0mpublic_key\u001b[0m\u001b[0;34m\u001b[0m\u001b[0;34m\u001b[0m\u001b[0m\n\u001b[0m\u001b[1;32m      3\u001b[0m \u001b[0mamount\u001b[0m \u001b[0;34m=\u001b[0m \u001b[0mBalance\u001b[0m\u001b[0;34m.\u001b[0m\u001b[0mfrom_float\u001b[0m\u001b[0;34m(\u001b[0m \u001b[0mamount\u001b[0m \u001b[0;34m)\u001b[0m\u001b[0;34m\u001b[0m\u001b[0;34m\u001b[0m\u001b[0m\n\u001b[1;32m      4\u001b[0m \u001b[0mbalance\u001b[0m \u001b[0;34m=\u001b[0m \u001b[0mbittensor\u001b[0m\u001b[0;34m.\u001b[0m\u001b[0msubtensor\u001b[0m\u001b[0;34m.\u001b[0m\u001b[0mget_balance\u001b[0m\u001b[0;34m(\u001b[0m \u001b[0mwallet\u001b[0m\u001b[0;34m.\u001b[0m\u001b[0mcoldkey\u001b[0m\u001b[0;34m.\u001b[0m\u001b[0mpublic_key\u001b[0m \u001b[0;34m)\u001b[0m\u001b[0;34m\u001b[0m\u001b[0;34m\u001b[0m\u001b[0m\n\u001b[1;32m      5\u001b[0m \u001b[0;32mif\u001b[0m \u001b[0mbalance\u001b[0m \u001b[0;34m<\u001b[0m \u001b[0mamount\u001b[0m\u001b[0;34m:\u001b[0m\u001b[0;34m\u001b[0m\u001b[0;34m\u001b[0m\u001b[0m\n",
      "\u001b[0;32m~/Workspace/bittensor/bittensor/wallet.py\u001b[0m in \u001b[0;36mcoldkey\u001b[0;34m(self)\u001b[0m\n\u001b[1;32m    187\u001b[0m         \"\"\"\n\u001b[1;32m    188\u001b[0m         \u001b[0;32mif\u001b[0m \u001b[0mself\u001b[0m\u001b[0;34m.\u001b[0m\u001b[0m_coldkey\u001b[0m \u001b[0;34m==\u001b[0m \u001b[0;32mNone\u001b[0m\u001b[0;34m:\u001b[0m\u001b[0;34m\u001b[0m\u001b[0;34m\u001b[0m\u001b[0m\n\u001b[0;32m--> 189\u001b[0;31m             \u001b[0mself\u001b[0m\u001b[0;34m.\u001b[0m\u001b[0m_coldkey\u001b[0m \u001b[0;34m=\u001b[0m \u001b[0mself\u001b[0m\u001b[0;34m.\u001b[0m\u001b[0m_load_coldkey\u001b[0m\u001b[0;34m(\u001b[0m \u001b[0;34m)\u001b[0m\u001b[0;34m\u001b[0m\u001b[0;34m\u001b[0m\u001b[0m\n\u001b[0m\u001b[1;32m    190\u001b[0m         \u001b[0;32mreturn\u001b[0m \u001b[0mself\u001b[0m\u001b[0;34m.\u001b[0m\u001b[0m_coldkey\u001b[0m\u001b[0;34m\u001b[0m\u001b[0;34m\u001b[0m\u001b[0m\n\u001b[1;32m    191\u001b[0m \u001b[0;34m\u001b[0m\u001b[0m\n",
      "\u001b[0;32m~/Workspace/bittensor/bittensor/wallet.py\u001b[0m in \u001b[0;36m_load_coldkey\u001b[0;34m(self)\u001b[0m\n\u001b[1;32m    296\u001b[0m                 \u001b[0;31m# Try key load.\u001b[0m\u001b[0;34m\u001b[0m\u001b[0;34m\u001b[0m\u001b[0;34m\u001b[0m\u001b[0m\n\u001b[1;32m    297\u001b[0m                 \u001b[0;32mif\u001b[0m \u001b[0mis_encrypted\u001b[0m\u001b[0;34m(\u001b[0m\u001b[0mdata\u001b[0m\u001b[0;34m)\u001b[0m\u001b[0;34m:\u001b[0m\u001b[0;34m\u001b[0m\u001b[0;34m\u001b[0m\u001b[0m\n\u001b[0;32m--> 298\u001b[0;31m                     \u001b[0mpassword\u001b[0m \u001b[0;34m=\u001b[0m \u001b[0mbittensor\u001b[0m\u001b[0;34m.\u001b[0m\u001b[0mutils\u001b[0m\u001b[0;34m.\u001b[0m\u001b[0mCli\u001b[0m\u001b[0;34m.\u001b[0m\u001b[0mask_password\u001b[0m\u001b[0;34m(\u001b[0m\u001b[0;34m)\u001b[0m\u001b[0;34m\u001b[0m\u001b[0;34m\u001b[0m\u001b[0m\n\u001b[0m\u001b[1;32m    299\u001b[0m                     \u001b[0mprint\u001b[0m\u001b[0;34m(\u001b[0m\u001b[0;34m\"decrypting key... (this may take a few moments)\"\u001b[0m\u001b[0;34m)\u001b[0m\u001b[0;34m\u001b[0m\u001b[0;34m\u001b[0m\u001b[0m\n\u001b[1;32m    300\u001b[0m                     \u001b[0mdata\u001b[0m \u001b[0;34m=\u001b[0m \u001b[0mdecrypt_data\u001b[0m\u001b[0;34m(\u001b[0m\u001b[0mpassword\u001b[0m\u001b[0;34m,\u001b[0m \u001b[0mdata\u001b[0m\u001b[0;34m)\u001b[0m\u001b[0;34m\u001b[0m\u001b[0;34m\u001b[0m\u001b[0m\n",
      "\u001b[0;31mAttributeError\u001b[0m: module 'bittensor' has no attribute 'utils'"
     ]
    }
   ],
   "source": [
    "amount = 0.01\n",
    "destination_public_key = wallet.coldkey.public_key\n",
    "amount = Balance.from_float( amount )\n",
    "balance = bittensor.subtensor.get_balance( wallet.coldkey.public_key )\n",
    "if balance < amount:\n",
    "    print(colored(\"Not enough balance ({}) to transfer {}\".format(balance, amount), 'red'))\n",
    "    quit()\n",
    "\n",
    "print(colored(\"Requesting transfer of {} Tao, from coldkey.pub: {} to dest.pub: {}\".format(amount.tao, wallet.coldkey.public_key, destination_public_key), 'blue'))\n",
    "print(\"Waiting for finalization...\",)\n",
    "result = bittensor.subtensor.transfer(destination_public_key, amount, wait_for_finalization = True, timeout = bittensor.__blocktime__ * 5)\n",
    "if result:\n",
    "    print(colored(\"Transfer finalized with amount: {} Tao to dest: {} from coldkey.pub: {}\".format(amount.tao, destination_public_key, wallet.coldkey.public_key), 'green'))\n",
    "    new_balance = bittensor.subtensor.get_balance(wallet.coldkeypub)\n",
    "    destination_balance = bittensor.subtensor.get_balance(destination_public_key)\n",
    "    print(colored(\"Your coldkey has new balance: {} Tao\".format( new_balance.tao ) , 'green'))\n",
    "    print(colored(\"The destination has new balance: {} Tao\".format( new_balance.tao ) , 'green'))\n",
    "else:\n",
    "    print(colored(\"Transfer failed\", 'red'))"
   ]
  },
  {
   "cell_type": "code",
   "execution_count": null,
   "metadata": {},
   "outputs": [],
   "source": []
  }
 ],
 "metadata": {
  "kernelspec": {
   "display_name": "Python 3",
   "language": "python",
   "name": "python3"
  },
  "language_info": {
   "codemirror_mode": {
    "name": "ipython",
    "version": 3
   },
   "file_extension": ".py",
   "mimetype": "text/x-python",
   "name": "python",
   "nbconvert_exporter": "python",
   "pygments_lexer": "ipython3",
   "version": "3.7.3"
  },
  "toc-autonumbering": true,
  "toc-showmarkdowntxt": false
 },
 "nbformat": 4,
 "nbformat_minor": 4
}
